{
 "cells": [
  {
   "cell_type": "markdown",
   "id": "f419896e-556d-4c96-8296-0848be728fa2",
   "metadata": {},
   "source": [
    "Import Modules"
   ]
  },
  {
   "cell_type": "code",
   "execution_count": 37,
   "id": "48e97139-d6b6-4314-b251-d7aeb196b268",
   "metadata": {},
   "outputs": [],
   "source": [
    "import pandas as pd\n",
    "import numpy as np\n",
    "import os\n",
    "from collections import Counter"
   ]
  },
  {
   "cell_type": "code",
   "execution_count": 29,
   "id": "a7c2bc59-9a79-4303-8f18-71590499aeeb",
   "metadata": {},
   "outputs": [],
   "source": [
    "col_names = ['Variance','skewness', 'curtosis', 'entropy', 'class']\n",
    "data = pd.read_csv(os.path.join(\"..\",\"data\",\"data_banknote_authentication.csv.\"),names=col_names,skiprows=1)"
   ]
  },
  {
   "cell_type": "code",
   "execution_count": 30,
   "id": "ed256bda-8e60-48c1-bcde-99deed876946",
   "metadata": {},
   "outputs": [
    {
     "data": {
      "text/html": [
       "<div>\n",
       "<style scoped>\n",
       "    .dataframe tbody tr th:only-of-type {\n",
       "        vertical-align: middle;\n",
       "    }\n",
       "\n",
       "    .dataframe tbody tr th {\n",
       "        vertical-align: top;\n",
       "    }\n",
       "\n",
       "    .dataframe thead th {\n",
       "        text-align: right;\n",
       "    }\n",
       "</style>\n",
       "<table border=\"1\" class=\"dataframe\">\n",
       "  <thead>\n",
       "    <tr style=\"text-align: right;\">\n",
       "      <th></th>\n",
       "      <th>Variance</th>\n",
       "      <th>skewness</th>\n",
       "      <th>curtosis</th>\n",
       "      <th>entropy</th>\n",
       "      <th>class</th>\n",
       "    </tr>\n",
       "  </thead>\n",
       "  <tbody>\n",
       "    <tr>\n",
       "      <th>0</th>\n",
       "      <td>4.54590</td>\n",
       "      <td>8.1674</td>\n",
       "      <td>-2.4586</td>\n",
       "      <td>-1.46210</td>\n",
       "      <td>0</td>\n",
       "    </tr>\n",
       "    <tr>\n",
       "      <th>1</th>\n",
       "      <td>3.86600</td>\n",
       "      <td>-2.6383</td>\n",
       "      <td>1.9242</td>\n",
       "      <td>0.10645</td>\n",
       "      <td>0</td>\n",
       "    </tr>\n",
       "    <tr>\n",
       "      <th>2</th>\n",
       "      <td>3.45660</td>\n",
       "      <td>9.5228</td>\n",
       "      <td>-4.0112</td>\n",
       "      <td>-3.59440</td>\n",
       "      <td>0</td>\n",
       "    </tr>\n",
       "    <tr>\n",
       "      <th>3</th>\n",
       "      <td>0.32924</td>\n",
       "      <td>-4.4552</td>\n",
       "      <td>4.5718</td>\n",
       "      <td>-0.98880</td>\n",
       "      <td>0</td>\n",
       "    </tr>\n",
       "    <tr>\n",
       "      <th>4</th>\n",
       "      <td>4.36840</td>\n",
       "      <td>9.6718</td>\n",
       "      <td>-3.9606</td>\n",
       "      <td>-3.16250</td>\n",
       "      <td>0</td>\n",
       "    </tr>\n",
       "  </tbody>\n",
       "</table>\n",
       "</div>"
      ],
      "text/plain": [
       "   Variance  skewness  curtosis  entropy  class\n",
       "0   4.54590    8.1674   -2.4586 -1.46210      0\n",
       "1   3.86600   -2.6383    1.9242  0.10645      0\n",
       "2   3.45660    9.5228   -4.0112 -3.59440      0\n",
       "3   0.32924   -4.4552    4.5718 -0.98880      0\n",
       "4   4.36840    9.6718   -3.9606 -3.16250      0"
      ]
     },
     "execution_count": 30,
     "metadata": {},
     "output_type": "execute_result"
    }
   ],
   "source": [
    "data.head()"
   ]
  },
  {
   "cell_type": "code",
   "execution_count": 33,
   "id": "b0c9766d-6987-490e-9de0-cd1a48504a27",
   "metadata": {},
   "outputs": [],
   "source": [
    "class Node:\n",
    "    def __init__(self,feature=None,threshold=None,left=None,right=None,*,value=None):\n",
    "        self.feature = features\n",
    "        self.threshold = threshold\n",
    "        self.left = left\n",
    "        self.right = right\n",
    "        #only for the leaf node\n",
    "        self.value = value\n",
    "\n",
    "    def is_leaf_node():\n",
    "        return self.value is not None"
   ]
  },
  {
   "cell_type": "code",
   "execution_count": 45,
   "id": "df4593d9-ce4d-4371-addd-7e2997202e87",
   "metadata": {},
   "outputs": [],
   "source": [
    "class DecisionTree:\n",
    "    def __init__(self,min_sample_split=2,max_depth=100,n_feature=None):\n",
    "        #defining the root\n",
    "        self.root = None\n",
    "\n",
    "        self.min_sample_split=min_sample_split\n",
    "        self.max_depth=max_depth\n",
    "        self.n_feature=n_feature\n",
    "\n",
    "    def fit(self,X,y):\n",
    "        self.feature = X.shape[1] if not n_features else min(n_feature,X.shape[1])\n",
    "        self.root = self._grow_tree(X,y)\n",
    "\n",
    "    def _grow_tree(self,X,y,depth=0):\n",
    "        n_sample,n_feat = X.shape\n",
    "        n_label = len(np.unique(y))\n",
    "\n",
    "        feat_idx = np.random.choice(n_feat,self.n_feature,replace=False)\n",
    "        \n",
    "        #check the stopping criteria\n",
    "        if depth >= self.max_depth or n_label == 1 or self.min_sample_split > n_sample:\n",
    "            leaf_value = self._most_common_label(y)\n",
    "            return Node(value=leaf_value)\n",
    "\n",
    "        #find the best split\n",
    "        best_feature, best_threshold = self._best_split(X,y,feat_idx)\n",
    "\n",
    "\n",
    "        #create the child node\n",
    "    def _most_common_label(self,y):\n",
    "        most_common = Counter(y).most_common(1)[0][0]\n",
    "        return most_common\n",
    "\n",
    "    def _best_split(self,X,y,feat_idx):\n",
    "        best_gain = -1\n",
    "        split_idx, split_threshold = None , None\n",
    "        for idx in feat_idx:\n",
    "            X_column = X[:,idx]\n",
    "            threshold = np.unique(X_column)\n",
    "\n",
    "            for thr in threshold:\n",
    "                #calculate the information gain\n",
    "                gain = self._information_gain()\n",
    "\n",
    "                if(gain > best_gain):\n",
    "                    best_gain = gain\n",
    "                    split_idx = feat_idx\n",
    "                    split_threshold = thr\n",
    "                    \n",
    "        return split_idx = split_threshold\n",
    "        \n",
    "    def predict(self):\n",
    "        pass"
   ]
  }
 ],
 "metadata": {
  "kernelspec": {
   "display_name": "Python 3 (ipykernel)",
   "language": "python",
   "name": "python3"
  },
  "language_info": {
   "codemirror_mode": {
    "name": "ipython",
    "version": 3
   },
   "file_extension": ".py",
   "mimetype": "text/x-python",
   "name": "python",
   "nbconvert_exporter": "python",
   "pygments_lexer": "ipython3",
   "version": "3.12.8"
  }
 },
 "nbformat": 4,
 "nbformat_minor": 5
}
